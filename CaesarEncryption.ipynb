{
  "nbformat": 4,
  "nbformat_minor": 0,
  "metadata": {
    "colab": {
      "provenance": [],
      "authorship_tag": "ABX9TyNrUdRLvv7UDf0tEEmrPxUx",
      "include_colab_link": true
    },
    "kernelspec": {
      "name": "python3",
      "display_name": "Python 3"
    },
    "language_info": {
      "name": "python"
    }
  },
  "cells": [
    {
      "cell_type": "markdown",
      "metadata": {
        "id": "view-in-github",
        "colab_type": "text"
      },
      "source": [
        "<a href=\"https://colab.research.google.com/github/LPProjects/Caesar-Encryption-Python/blob/main/CaesarEncryption.ipynb\" target=\"_parent\"><img src=\"https://colab.research.google.com/assets/colab-badge.svg\" alt=\"Open In Colab\"/></a>"
      ]
    },
    {
      "cell_type": "code",
      "execution_count": null,
      "metadata": {
        "id": "e5P5vLoBtUm8"
      },
      "outputs": [],
      "source": [
        "import string"
      ]
    },
    {
      "cell_type": "code",
      "source": [
        "plain_text = \"olssv dvysk\"\n",
        "shift = 26-7\n",
        "shift %= 26\n",
        "\n",
        "alphabet = string.ascii_lowercase\n",
        "shifted = alphabet[shift:] + alphabet[:shift]"
      ],
      "metadata": {
        "id": "PTmiffhvta3k"
      },
      "execution_count": null,
      "outputs": []
    },
    {
      "cell_type": "code",
      "source": [
        "table = str.maketrans(alphabet, shifted)"
      ],
      "metadata": {
        "id": "oBFEzBqQucVI"
      },
      "execution_count": null,
      "outputs": []
    },
    {
      "cell_type": "code",
      "source": [
        "encrypted = plain_text.translate(table)"
      ],
      "metadata": {
        "id": "RQgx0FjPulHW"
      },
      "execution_count": null,
      "outputs": []
    },
    {
      "cell_type": "code",
      "source": [
        "print(encrypted)"
      ],
      "metadata": {
        "colab": {
          "base_uri": "https://localhost:8080/"
        },
        "id": "VgpYdYsouqpZ",
        "outputId": "911b327f-56a6-4212-9ae2-369f6299413c"
      },
      "execution_count": null,
      "outputs": [
        {
          "output_type": "stream",
          "name": "stdout",
          "text": [
            "hello world\n"
          ]
        }
      ]
    },
    {
      "cell_type": "code",
      "source": [
        "def caesar(text, shift, alphabets):\n",
        "  def shift_alphabet(alphabet):\n",
        "    return alphabet[shift:] + alphabet[:shift]\n",
        "\n",
        "  shifted_alphabets = tuple(map(shift_alphabet, alphabets))\n",
        "  final_alphabet = ''.join(alphabets)\n",
        "  final_shifted_alphabet = ''.join(shifted_alphabets)\n",
        "  table = str.maketrans(final_alphabet, final_shifted_alphabet)\n",
        "  return text.translate(table)"
      ],
      "metadata": {
        "id": "Bk2y47bCdOnZ"
      },
      "execution_count": null,
      "outputs": []
    },
    {
      "cell_type": "code",
      "source": [
        "plain_text = \"New text, hello!\""
      ],
      "metadata": {
        "id": "64sKuZP2eSEM"
      },
      "execution_count": null,
      "outputs": []
    },
    {
      "cell_type": "code",
      "source": [
        "print(caesar(plain_text, 4, [string.ascii_lowercase, string.ascii_uppercase, string.punctuation]))"
      ],
      "metadata": {
        "colab": {
          "base_uri": "https://localhost:8080/"
        },
        "id": "b19el30ZeWiP",
        "outputId": "0b70c6f7-4683-452c-b786-1d45a8ab23e8"
      },
      "execution_count": null,
      "outputs": [
        {
          "output_type": "stream",
          "name": "stdout",
          "text": [
            "Ria xibx: lipps%\n"
          ]
        }
      ]
    }
  ]
}